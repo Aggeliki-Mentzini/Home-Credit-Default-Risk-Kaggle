{
  "nbformat": 4,
  "nbformat_minor": 0,
  "metadata": {
    "colab": {
      "provenance": [],
      "authorship_tag": "ABX9TyORQHpJW48MgdVQh1mI+qQn",
      "include_colab_link": true
    },
    "kernelspec": {
      "name": "python3",
      "display_name": "Python 3"
    },
    "language_info": {
      "name": "python"
    }
  },
  "cells": [
    {
      "cell_type": "markdown",
      "metadata": {
        "id": "view-in-github",
        "colab_type": "text"
      },
      "source": [
        "<a href=\"https://colab.research.google.com/github/Aggeliki-Mentzini/Home-Credit-Default-Risk-Kaggle/blob/main/Data_Cleaning.ipynb\" target=\"_parent\"><img src=\"https://colab.research.google.com/assets/colab-badge.svg\" alt=\"Open In Colab\"/></a>"
      ]
    },
    {
      "cell_type": "code",
      "execution_count": 2,
      "metadata": {
        "id": "pFtrl3-hTXkA"
      },
      "outputs": [],
      "source": [
        "import numpy as np\n",
        "#Used for numerical computing, particularly with arrays and mathematical operations.\n",
        "\n",
        "\n",
        "import pandas as pd\n",
        "#A powerful library for data manipulation and analysis, particularly with DataFrames.\n",
        "\n",
        "import matplotlib.pyplot as plt\n",
        "#A library for creating static, animated, and interactive visualizations.\n",
        "\n",
        "\n",
        "import seaborn as sns\n",
        "#Built on top of Matplotlib, it provides a high-level interface for attractive statistical graphics."
      ]
    },
    {
      "cell_type": "code",
      "source": [],
      "metadata": {
        "id": "jgVCGw8HTY4M"
      },
      "execution_count": null,
      "outputs": []
    }
  ]
}